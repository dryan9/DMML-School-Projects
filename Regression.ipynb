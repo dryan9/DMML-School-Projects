{
  "nbformat": 4,
  "nbformat_minor": 0,
  "metadata": {
    "colab": {
      "name": "Untitled09.ipynb",
      "provenance": []
    },
    "kernelspec": {
      "name": "python3",
      "display_name": "Python 3"
    }
  },
  "cells": [
    {
      "cell_type": "markdown",
      "metadata": {
        "id": "1lzJoTkvvXGG"
      },
      "source": [
        "#Lab 09\n",
        "Regression \n",
        "\n",
        "Danny Ryan\n",
        "\n",
        "3-10-20"
      ]
    },
    {
      "cell_type": "code",
      "metadata": {
        "id": "VWBabma9v0LI"
      },
      "source": [
        "import numpy as np\n",
        "import pandas as pd \n",
        "import matplotlib.pyplot as plt\n",
        "import seaborn as sns"
      ],
      "execution_count": null,
      "outputs": []
    },
    {
      "cell_type": "code",
      "metadata": {
        "colab": {
          "base_uri": "https://localhost:8080/",
          "height": 195
        },
        "id": "N8iayx8svcmW",
        "outputId": "4ad68d16-fbee-495f-a369-62e5da5606ae"
      },
      "source": [
        "df = pd.read_csv(\"https://drive.google.com/uc?export=download&id=1XHF2E7uXPqXSmGi2X1E9_o9VmIh89bfV\")\n",
        "df.head(5)"
      ],
      "execution_count": null,
      "outputs": [
        {
          "output_type": "execute_result",
          "data": {
            "text/html": [
              "<div>\n",
              "<style scoped>\n",
              "    .dataframe tbody tr th:only-of-type {\n",
              "        vertical-align: middle;\n",
              "    }\n",
              "\n",
              "    .dataframe tbody tr th {\n",
              "        vertical-align: top;\n",
              "    }\n",
              "\n",
              "    .dataframe thead th {\n",
              "        text-align: right;\n",
              "    }\n",
              "</style>\n",
              "<table border=\"1\" class=\"dataframe\">\n",
              "  <thead>\n",
              "    <tr style=\"text-align: right;\">\n",
              "      <th></th>\n",
              "      <th>x</th>\n",
              "      <th>y</th>\n",
              "      <th>is_train</th>\n",
              "    </tr>\n",
              "  </thead>\n",
              "  <tbody>\n",
              "    <tr>\n",
              "      <th>0</th>\n",
              "      <td>0.000799</td>\n",
              "      <td>1.699337</td>\n",
              "      <td>1.0</td>\n",
              "    </tr>\n",
              "    <tr>\n",
              "      <th>1</th>\n",
              "      <td>0.010214</td>\n",
              "      <td>-0.436091</td>\n",
              "      <td>1.0</td>\n",
              "    </tr>\n",
              "    <tr>\n",
              "      <th>2</th>\n",
              "      <td>0.071439</td>\n",
              "      <td>-1.873174</td>\n",
              "      <td>1.0</td>\n",
              "    </tr>\n",
              "    <tr>\n",
              "      <th>3</th>\n",
              "      <td>0.076680</td>\n",
              "      <td>15.854541</td>\n",
              "      <td>1.0</td>\n",
              "    </tr>\n",
              "    <tr>\n",
              "      <th>4</th>\n",
              "      <td>0.115109</td>\n",
              "      <td>-0.831285</td>\n",
              "      <td>1.0</td>\n",
              "    </tr>\n",
              "  </tbody>\n",
              "</table>\n",
              "</div>"
            ],
            "text/plain": [
              "          x          y  is_train\n",
              "0  0.000799   1.699337       1.0\n",
              "1  0.010214  -0.436091       1.0\n",
              "2  0.071439  -1.873174       1.0\n",
              "3  0.076680  15.854541       1.0\n",
              "4  0.115109  -0.831285       1.0"
            ]
          },
          "metadata": {
            "tags": []
          },
          "execution_count": 4
        }
      ]
    },
    {
      "cell_type": "code",
      "metadata": {
        "id": "r2Vu66-BvyG5"
      },
      "source": [
        "xtrain =df['x'][df['is_train'] == 1].values.reshape((-1,1))"
      ],
      "execution_count": null,
      "outputs": []
    },
    {
      "cell_type": "code",
      "metadata": {
        "id": "JplQ5qVSwp5t"
      },
      "source": [
        "ytrain = df['y'][df['is_train'] == 1].values.reshape((-1,1))\n",
        "xtest = df['x'][df['is_train'] == 0].values.reshape((-1,1))\n",
        "ytest = df['y'][df['is_train'] == 0].values.reshape((-1,1))"
      ],
      "execution_count": null,
      "outputs": []
    },
    {
      "cell_type": "code",
      "metadata": {
        "id": "8iwQPcD6w2ZB"
      },
      "source": [
        "from sklearn.linear_model import LinearRegression"
      ],
      "execution_count": null,
      "outputs": []
    },
    {
      "cell_type": "code",
      "metadata": {
        "colab": {
          "base_uri": "https://localhost:8080/",
          "height": 282
        },
        "id": "5TlKupYVxDpa",
        "outputId": "abe27557-e7bf-4ef5-9692-2ba308834d4c"
      },
      "source": [
        "plt.scatter(xtrain, ytrain)"
      ],
      "execution_count": null,
      "outputs": [
        {
          "output_type": "execute_result",
          "data": {
            "text/plain": [
              "<matplotlib.collections.PathCollection at 0x7f385255f590>"
            ]
          },
          "metadata": {
            "tags": []
          },
          "execution_count": 8
        },
        {
          "output_type": "display_data",
          "data": {
            "image/png": "[encoded data removed]",
            "text/plain": [
              "<Figure size 432x288 with 1 Axes>"
            ]
          },
          "metadata": {
            "tags": [],
            "needs_background": "light"
          }
        }
      ]
    },
    {
      "cell_type": "code",
      "metadata": {
        "id": "xdFRpJakyEBt"
      },
      "source": [
        "from sklearn.preprocessing import PolynomialFeatures\n",
        "from sklearn.pipeline import make_pipeline\n"
      ],
      "execution_count": null,
      "outputs": []
    },
    {
      "cell_type": "code",
      "metadata": {
        "colab": {
          "base_uri": "https://localhost:8080/",
          "height": 282
        },
        "id": "Y-XAt7PYxGnE",
        "outputId": "8794f317-b9f3-4b35-d943-8307c3581011"
      },
      "source": [
        "poly_model = make_pipeline(PolynomialFeatures(11),\n",
        "                          LinearRegression())\n",
        "poly_model.fit(xtrain,ytrain)\n",
        "yfit = poly_model.predict(xtest)\n",
        "plt.scatter(xtrain, ytrain, c = 'b')\n",
        "plt.plot(xtest, yfit, 'r')"
      ],
      "execution_count": null,
      "outputs": [
        {
          "output_type": "execute_result",
          "data": {
            "text/plain": [
              "[<matplotlib.lines.Line2D at 0x7f3851a03e10>]"
            ]
          },
          "metadata": {
            "tags": []
          },
          "execution_count": 28
        },
        {
          "output_type": "display_data",
          "data": {
            "image/png": "[encoded data removed]",
            "text/plain": [
              "<Figure size 432x288 with 1 Axes>"
            ]
          },
          "metadata": {
            "tags": [],
            "needs_background": "light"
          }
        }
      ]
    },
    {
      "cell_type": "code",
      "metadata": {
        "colab": {
          "base_uri": "https://localhost:8080/"
        },
        "id": "Jt5GbmmXzYEb",
        "outputId": "44ce6ac3-c4a4-4afd-a06a-105c909ff615"
      },
      "source": [
        "from sklearn.metrics import mean_absolute_error\n",
        "from sklearn.metrics import mean_squared_error\n",
        "\n",
        "p_model = make_pipeline(PolynomialFeatures(11),\n",
        "                        LinearRegression())\n",
        "p_model.fit(xtrain, ytrain)\n",
        "ypred = p_model.predict(xtest)\n",
        "mae = mean_absolute_error(ytest, ypred)\n",
        "mse = mean_squared_error(ytest, ypred)\n",
        "print('MAE: {:.4f}, MSE: {:.4f}'.format(mae,mse))"
      ],
      "execution_count": null,
      "outputs": [
        {
          "output_type": "stream",
          "text": [
            "MAE: 0.5027, MSE: 0.3710\n"
          ],
          "name": "stdout"
        }
      ]
    },
    {
      "cell_type": "code",
      "metadata": {
        "colab": {
          "base_uri": "https://localhost:8080/"
        },
        "id": "ld1B5UNHx-DB",
        "outputId": "70e5595e-acdf-416f-d304-552f9458360e"
      },
      "source": [
        "from sklearn.metrics import mean_absolute_error\n",
        "from sklearn.metrics import mean_squared_error\n",
        "\n",
        "p_model = make_pipeline(PolynomialFeatures(12),\n",
        "                        LinearRegression())\n",
        "p_model.fit(xtrain, ytrain)\n",
        "ypred = p_model.predict(xtest)\n",
        "mae = mean_absolute_error(ytest, ypred)\n",
        "mse = mean_squared_error(ytest, ypred)\n",
        "print('MAE: {:.4f}, MSE: {:.4f}'.format(mae,mse))"
      ],
      "execution_count": null,
      "outputs": [
        {
          "output_type": "stream",
          "text": [
            "MAE: 0.6474, MSE: 0.6029\n"
          ],
          "name": "stdout"
        }
      ]
    },
    {
      "cell_type": "code",
      "metadata": {
        "colab": {
          "base_uri": "https://localhost:8080/"
        },
        "id": "A17AZMAq0N4i",
        "outputId": "a4f713a6-264a-412a-b7b5-46a146531e84"
      },
      "source": [
        "from sklearn.metrics import mean_absolute_error\n",
        "from sklearn.metrics import mean_squared_error\n",
        "\n",
        "p_model = make_pipeline(PolynomialFeatures(10),\n",
        "                        LinearRegression())\n",
        "p_model.fit(xtrain, ytrain)\n",
        "ypred = p_model.predict(xtest)\n",
        "mae = mean_absolute_error(ytest, ypred)\n",
        "mse = mean_squared_error(ytest, ypred)\n",
        "print('MAE: {:.4f}, MSE: {:.4f}'.format(mae,mse))"
      ],
      "execution_count": null,
      "outputs": [
        {
          "output_type": "stream",
          "text": [
            "MAE: 1.8722, MSE: 4.1342\n"
          ],
          "name": "stdout"
        }
      ]
    },
    {
      "cell_type": "code",
      "metadata": {
        "colab": {
          "base_uri": "https://localhost:8080/"
        },
        "id": "zaicLdA40TC-",
        "outputId": "2606442c-376e-47d9-e3c2-6f69c9dcaa1b"
      },
      "source": [
        "from sklearn.metrics import mean_absolute_error\n",
        "from sklearn.metrics import mean_squared_error\n",
        "\n",
        "p_model = make_pipeline(PolynomialFeatures(13),\n",
        "                        LinearRegression())\n",
        "p_model.fit(xtrain, ytrain)\n",
        "ypred = p_model.predict(xtest)\n",
        "mae = mean_absolute_error(ytest, ypred)\n",
        "mse = mean_squared_error(ytest, ypred)\n",
        "print('MAE: {:.4f}, MSE: {:.4f}'.format(mae,mse))"
      ],
      "execution_count": null,
      "outputs": [
        {
          "output_type": "stream",
          "text": [
            "MAE: 0.9709, MSE: 1.4076\n"
          ],
          "name": "stdout"
        }
      ]
    },
    {
      "cell_type": "code",
      "metadata": {
        "id": "1W9LyqsH0VhI"
      },
      "source": [
        ""
      ],
      "execution_count": null,
      "outputs": []
    }
  ]
}