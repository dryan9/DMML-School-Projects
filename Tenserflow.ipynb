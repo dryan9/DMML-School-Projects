{
  "nbformat": 4,
  "nbformat_minor": 0,
  "metadata": {
    "colab": {
      "name": "lab14_Ryan.ipynb",
      "provenance": []
    },
    "kernelspec": {
      "name": "python3",
      "display_name": "Python 3"
    },
    "language_info": {
      "name": "python"
    }
  },
  "cells": [
    {
      "cell_type": "markdown",
      "metadata": {
        "id": "qCxZCS2e57iW"
      },
      "source": [
        "Danny Ryan\n",
        "\n",
        "Lab 14 \n",
        "\n",
        "Tensorflow \n",
        "\n",
        "4/14/2020"
      ]
    },
    {
      "cell_type": "code",
      "metadata": {
        "colab": {
          "base_uri": "https://localhost:8080/"
        },
        "id": "EO37q5sK6ANz",
        "outputId": "9062d9a9-58dd-491e-9ab2-4f9dbaeb9a62"
      },
      "source": [
        "import numpy as np\n",
        "import pandas as pd\n",
        "import matplotlib.pyplot as plt\n",
        "import seaborn as sns\n",
        "from sklearn.model_selection import train_test_split\n",
        "from sklearn.neighbors import KNeighborsClassifier\n",
        "from sklearn.metrics import accuracy_score\n",
        "from sklearn.metrics import confusion_matrix\n",
        "import networkx as nx\n",
        "from operator import itemgetter\n",
        "from sklearn.decomposition import PCA\n",
        "import tensorflow as tf \n",
        "print(tf.__version__)"
      ],
      "execution_count": null,
      "outputs": [
        {
          "output_type": "stream",
          "text": [
            "2.4.1\n"
          ],
          "name": "stdout"
        }
      ]
    },
    {
      "cell_type": "code",
      "metadata": {
        "colab": {
          "base_uri": "https://localhost:8080/"
        },
        "id": "t6YThTA96Aui",
        "outputId": "3d92a68d-9c07-4372-e342-319935bdc5d2"
      },
      "source": [
        "mnist = tf.keras.datasets.mnist\n",
        "\n",
        "(xtrain, ytrain), (xtest,ytest) = mnist.load_data()\n",
        "xtrain = xtrain / 255.0\n",
        "xtest = xtest / 255.0"
      ],
      "execution_count": null,
      "outputs": [
        {
          "output_type": "stream",
          "text": [
            "Downloading data from https://storage.googleapis.com/tensorflow/tf-keras-datasets/mnist.npz\n",
            "11493376/11490434 [==============================] - 0s 0us/step\n"
          ],
          "name": "stdout"
        }
      ]
    },
    {
      "cell_type": "code",
      "metadata": {
        "colab": {
          "base_uri": "https://localhost:8080/"
        },
        "id": "Xr3rZgDl67Yo",
        "outputId": "d95e5dc7-1d3c-4e0c-f2db-89b652affa5f"
      },
      "source": [
        "xtrain.shape"
      ],
      "execution_count": null,
      "outputs": [
        {
          "output_type": "execute_result",
          "data": {
            "text/plain": [
              "(60000, 28, 28)"
            ]
          },
          "metadata": {
            "tags": []
          },
          "execution_count": 5
        }
      ]
    },
    {
      "cell_type": "code",
      "metadata": {
        "colab": {
          "base_uri": "https://localhost:8080/"
        },
        "id": "ENH43NO369IL",
        "outputId": "4ed7aebb-852d-4136-d50a-e6e0a3443f72"
      },
      "source": [
        "ytrain.shape"
      ],
      "execution_count": null,
      "outputs": [
        {
          "output_type": "execute_result",
          "data": {
            "text/plain": [
              "(60000,)"
            ]
          },
          "metadata": {
            "tags": []
          },
          "execution_count": 6
        }
      ]
    },
    {
      "cell_type": "code",
      "metadata": {
        "colab": {
          "base_uri": "https://localhost:8080/"
        },
        "id": "u_ZEUPcG6-v3",
        "outputId": "fd8880c5-b83c-4ce2-c370-0f61ec2ab81b"
      },
      "source": [
        "xtest.shape"
      ],
      "execution_count": null,
      "outputs": [
        {
          "output_type": "execute_result",
          "data": {
            "text/plain": [
              "(10000, 28, 28)"
            ]
          },
          "metadata": {
            "tags": []
          },
          "execution_count": 7
        }
      ]
    },
    {
      "cell_type": "code",
      "metadata": {
        "colab": {
          "base_uri": "https://localhost:8080/"
        },
        "id": "sL7Q44VC6_-M",
        "outputId": "821620c8-812e-406a-aca7-6bca014c5b92"
      },
      "source": [
        "ytest.shape"
      ],
      "execution_count": null,
      "outputs": [
        {
          "output_type": "execute_result",
          "data": {
            "text/plain": [
              "(10000,)"
            ]
          },
          "metadata": {
            "tags": []
          },
          "execution_count": 8
        }
      ]
    },
    {
      "cell_type": "code",
      "metadata": {
        "colab": {
          "base_uri": "https://localhost:8080/",
          "height": 281
        },
        "id": "pUlxlAnB7A8H",
        "outputId": "ce85d328-3e53-4f55-ae63-4340edf05ac8"
      },
      "source": [
        "train_idx = 2\n",
        "plt.imshow(xtrain[train_idx], cmap = 'gray')\n",
        "plt.title('Label: {}'.format(ytrain[train_idx]))\n",
        "plt.show()"
      ],
      "execution_count": null,
      "outputs": [
        {
          "output_type": "display_data",
          "data": {
            "image/png": "[encoded data removed]",
            "text/plain": [
              "<Figure size 432x288 with 1 Axes>"
            ]
          },
          "metadata": {
            "tags": [],
            "needs_background": "light"
          }
        }
      ]
    },
    {
      "cell_type": "code",
      "metadata": {
        "id": "pjVe4GBd7Pvv"
      },
      "source": [
        "model = tf.keras.models.Sequential([\n",
        "         tf.keras.layers.Flatten(input_shape = (28,28)),\n",
        "         tf.keras.layers.Dense(250, activation= 'relu'),\n",
        "         tf.keras.layers.Dropout(0.2),\n",
        "         tf.keras.layers.Dense(50)                           \n",
        "\n",
        "])"
      ],
      "execution_count": null,
      "outputs": []
    },
    {
      "cell_type": "code",
      "metadata": {
        "colab": {
          "base_uri": "https://localhost:8080/"
        },
        "id": "V6669Bnq78Gn",
        "outputId": "eac71f05-8349-4ab5-8ab9-3a43a59f707d"
      },
      "source": [
        "predictions = model(xtrain[:1]).numpy()\n",
        "predictions"
      ],
      "execution_count": null,
      "outputs": [
        {
          "output_type": "execute_result",
          "data": {
            "text/plain": [
              "array([[ 0.0069414 , -0.21709405, -0.7069114 ,  0.14177501, -0.5611731 ,\n",
              "         0.00917022,  0.00678533,  0.54468894, -0.03957268,  0.28116623,\n",
              "         0.14095443,  0.7337955 ,  0.25904408, -0.34087363, -0.00890034,\n",
              "        -0.5452677 ,  0.13524577,  0.17643225, -0.7900216 , -0.40734103,\n",
              "        -0.49516922,  0.2253654 , -0.05643355,  0.27652952, -0.02820124,\n",
              "         0.62443024,  0.33069575, -0.4144734 ,  0.3090097 ,  0.16385892,\n",
              "        -0.2885621 , -0.3594337 ,  0.18570444, -0.10669024, -0.09076853,\n",
              "         0.79945827, -0.41815656,  0.784816  , -0.44923598,  0.43080446,\n",
              "         0.42568564,  0.43539342,  0.1086143 ,  0.2369851 , -0.6644778 ,\n",
              "        -0.27896243, -0.48563007,  0.13588382,  0.40795743, -0.21247645]],\n",
              "      dtype=float32)"
            ]
          },
          "metadata": {
            "tags": []
          },
          "execution_count": 72
        }
      ]
    },
    {
      "cell_type": "code",
      "metadata": {
        "colab": {
          "base_uri": "https://localhost:8080/"
        },
        "id": "VJ4jpip88B5U",
        "outputId": "a5f5b999-b2cd-41b1-83ee-5462122e5992"
      },
      "source": [
        "tf.nn.softmax(predictions).numpy()"
      ],
      "execution_count": null,
      "outputs": [
        {
          "output_type": "execute_result",
          "data": {
            "text/plain": [
              "array([[0.01851099, 0.01479559, 0.00906582, 0.02118298, 0.01048819,\n",
              "        0.01855229, 0.0185081 , 0.03169351, 0.01766968, 0.0243514 ,\n",
              "        0.02116561, 0.03829114, 0.0238186 , 0.013073  , 0.01822005,\n",
              "        0.01065634, 0.02104512, 0.02192999, 0.00834282, 0.01223233,\n",
              "        0.01120381, 0.02302979, 0.01737425, 0.02423875, 0.01787176,\n",
              "        0.03432429, 0.02558788, 0.01214539, 0.02503895, 0.02165599,\n",
              "        0.01377508, 0.01283261, 0.02213428, 0.01652266, 0.01678783,\n",
              "        0.04088983, 0.01210074, 0.04029547, 0.01173044, 0.02828205,\n",
              "        0.02813765, 0.02841214, 0.02049206, 0.02329895, 0.0094588 ,\n",
              "        0.01390795, 0.0113112 , 0.02105855, 0.02764322, 0.01486406]],\n",
              "      dtype=float32)"
            ]
          },
          "metadata": {
            "tags": []
          },
          "execution_count": 73
        }
      ]
    },
    {
      "cell_type": "code",
      "metadata": {
        "id": "p7JBqzoN8JIP"
      },
      "source": [
        " loss_fn = tf.keras.losses.SparseCategoricalCrossentropy(from_logits = True)"
      ],
      "execution_count": null,
      "outputs": []
    },
    {
      "cell_type": "code",
      "metadata": {
        "id": "6vHpeskH9IXF"
      },
      "source": [
        "model.compile(optimizer='adam',\n",
        "              loss = loss_fn,\n",
        "              metrics = ['accuracy'])"
      ],
      "execution_count": null,
      "outputs": []
    },
    {
      "cell_type": "code",
      "metadata": {
        "colab": {
          "base_uri": "https://localhost:8080/"
        },
        "id": "yq8uOnW-9Sih",
        "outputId": "439b4f5b-75c5-4324-f31c-58c258e362dd"
      },
      "source": [
        "model.fit(xtrain, ytrain, epochs = 35)"
      ],
      "execution_count": null,
      "outputs": [
        {
          "output_type": "stream",
          "text": [
            "Epoch 1/35\n",
            "1875/1875 [==============================] - 6s 3ms/step - loss: 0.4849 - accuracy: 0.8676\n",
            "Epoch 2/35\n",
            "1875/1875 [==============================] - 5s 3ms/step - loss: 0.1229 - accuracy: 0.9631\n",
            "Epoch 3/35\n",
            "1875/1875 [==============================] - 5s 3ms/step - loss: 0.0895 - accuracy: 0.9725\n",
            "Epoch 4/35\n",
            "1875/1875 [==============================] - 6s 3ms/step - loss: 0.0670 - accuracy: 0.9788\n",
            "Epoch 5/35\n",
            "1875/1875 [==============================] - 6s 3ms/step - loss: 0.0530 - accuracy: 0.9835\n",
            "Epoch 6/35\n",
            "1875/1875 [==============================] - 5s 3ms/step - loss: 0.0469 - accuracy: 0.9853\n",
            "Epoch 7/35\n",
            "1875/1875 [==============================] - 5s 3ms/step - loss: 0.0395 - accuracy: 0.9880\n",
            "Epoch 8/35\n",
            "1875/1875 [==============================] - 5s 3ms/step - loss: 0.0328 - accuracy: 0.9892\n",
            "Epoch 9/35\n",
            "1875/1875 [==============================] - 5s 3ms/step - loss: 0.0272 - accuracy: 0.9905\n",
            "Epoch 10/35\n",
            "1875/1875 [==============================] - 6s 3ms/step - loss: 0.0290 - accuracy: 0.9894\n",
            "Epoch 11/35\n",
            "1875/1875 [==============================] - 5s 3ms/step - loss: 0.0237 - accuracy: 0.9916\n",
            "Epoch 12/35\n",
            "1875/1875 [==============================] - 6s 3ms/step - loss: 0.0240 - accuracy: 0.9916\n",
            "Epoch 13/35\n",
            "1875/1875 [==============================] - 6s 3ms/step - loss: 0.0208 - accuracy: 0.9930\n",
            "Epoch 14/35\n",
            "1875/1875 [==============================] - 5s 3ms/step - loss: 0.0226 - accuracy: 0.9922\n",
            "Epoch 15/35\n",
            "1875/1875 [==============================] - 5s 3ms/step - loss: 0.0180 - accuracy: 0.9935\n",
            "Epoch 16/35\n",
            "1875/1875 [==============================] - 5s 3ms/step - loss: 0.0174 - accuracy: 0.9939\n",
            "Epoch 17/35\n",
            "1875/1875 [==============================] - 5s 3ms/step - loss: 0.0180 - accuracy: 0.9937\n",
            "Epoch 18/35\n",
            "1875/1875 [==============================] - 5s 3ms/step - loss: 0.0169 - accuracy: 0.9944\n",
            "Epoch 19/35\n",
            "1875/1875 [==============================] - 5s 3ms/step - loss: 0.0158 - accuracy: 0.9946\n",
            "Epoch 20/35\n",
            "1875/1875 [==============================] - 5s 3ms/step - loss: 0.0142 - accuracy: 0.9954\n",
            "Epoch 21/35\n",
            "1875/1875 [==============================] - 6s 3ms/step - loss: 0.0145 - accuracy: 0.9950\n",
            "Epoch 22/35\n",
            "1875/1875 [==============================] - 6s 3ms/step - loss: 0.0154 - accuracy: 0.9948\n",
            "Epoch 23/35\n",
            "1875/1875 [==============================] - 6s 3ms/step - loss: 0.0104 - accuracy: 0.9964\n",
            "Epoch 24/35\n",
            "1875/1875 [==============================] - 6s 3ms/step - loss: 0.0164 - accuracy: 0.9945\n",
            "Epoch 25/35\n",
            "1875/1875 [==============================] - 6s 3ms/step - loss: 0.0125 - accuracy: 0.9959\n",
            "Epoch 26/35\n",
            "1875/1875 [==============================] - 6s 3ms/step - loss: 0.0103 - accuracy: 0.9968\n",
            "Epoch 27/35\n",
            "1875/1875 [==============================] - 6s 3ms/step - loss: 0.0136 - accuracy: 0.9955\n",
            "Epoch 28/35\n",
            "1875/1875 [==============================] - 5s 3ms/step - loss: 0.0140 - accuracy: 0.9951\n",
            "Epoch 29/35\n",
            "1875/1875 [==============================] - 5s 3ms/step - loss: 0.0096 - accuracy: 0.9967\n",
            "Epoch 30/35\n",
            "1875/1875 [==============================] - 5s 3ms/step - loss: 0.0121 - accuracy: 0.9956\n",
            "Epoch 31/35\n",
            "1875/1875 [==============================] - 6s 3ms/step - loss: 0.0106 - accuracy: 0.9961\n",
            "Epoch 32/35\n",
            "1875/1875 [==============================] - 6s 3ms/step - loss: 0.0109 - accuracy: 0.9961\n",
            "Epoch 33/35\n",
            "1875/1875 [==============================] - 6s 3ms/step - loss: 0.0116 - accuracy: 0.9962\n",
            "Epoch 34/35\n",
            "1875/1875 [==============================] - 6s 3ms/step - loss: 0.0128 - accuracy: 0.9956\n",
            "Epoch 35/35\n",
            "1875/1875 [==============================] - 6s 3ms/step - loss: 0.0108 - accuracy: 0.9967\n"
          ],
          "name": "stdout"
        },
        {
          "output_type": "execute_result",
          "data": {
            "text/plain": [
              "<tensorflow.python.keras.callbacks.History at 0x7f5ac95a2e50>"
            ]
          },
          "metadata": {
            "tags": []
          },
          "execution_count": 76
        }
      ]
    },
    {
      "cell_type": "code",
      "metadata": {
        "colab": {
          "base_uri": "https://localhost:8080/"
        },
        "id": "JEaJfcQO9W2y",
        "outputId": "1fa83998-2172-495f-9b19-6c5d75c77d40"
      },
      "source": [
        "model.evaluate(xtest, ytest, verbose = 2)"
      ],
      "execution_count": null,
      "outputs": [
        {
          "output_type": "stream",
          "text": [
            "313/313 - 0s - loss: 0.1104 - accuracy: 0.9820\n"
          ],
          "name": "stdout"
        },
        {
          "output_type": "execute_result",
          "data": {
            "text/plain": [
              "[0.11036433279514313, 0.9819999933242798]"
            ]
          },
          "metadata": {
            "tags": []
          },
          "execution_count": 77
        }
      ]
    },
    {
      "cell_type": "code",
      "metadata": {
        "id": "11GOyENQ9h5Q"
      },
      "source": [
        "probability_model = tf.keras.Sequential([\n",
        "        model,\n",
        "        tf.keras.layers.Softmax()\n",
        "])"
      ],
      "execution_count": null,
      "outputs": []
    },
    {
      "cell_type": "code",
      "metadata": {
        "colab": {
          "base_uri": "https://localhost:8080/",
          "height": 365
        },
        "id": "6Hsoh5ni9vkx",
        "outputId": "25dc265e-fbbc-4b67-f79a-5b9d0ad1d162"
      },
      "source": [
        "test_idx = 145\n",
        "plt.imshow(xtest[test_idx], cmap= plt.cm.gray)\n",
        "plt.title('Correct label: {}'.format(ytest[test_idx]))\n",
        "plt.show()\n",
        "print(\"predicted probabilities:\")\n",
        "probability_model(xtest[test_idx:test_idx+1])"
      ],
      "execution_count": null,
      "outputs": [
        {
          "output_type": "display_data",
          "data": {
            "image/png": "[encoded data removed]",
            "text/plain": [
              "<Figure size 432x288 with 1 Axes>"
            ]
          },
          "metadata": {
            "tags": [],
            "needs_background": "light"
          }
        },
        {
          "output_type": "stream",
          "text": [
            "predicted probabilities:\n"
          ],
          "name": "stdout"
        },
        {
          "output_type": "execute_result",
          "data": {
            "text/plain": [
              "<tf.Tensor: shape=(1, 10), dtype=float32, numpy=\n",
              "array([[9.1485081e-06, 9.8936939e-01, 2.3559731e-04, 3.7292519e-03,\n",
              "        9.9402241e-05, 2.4495921e-03, 1.6660926e-04, 3.2280863e-04,\n",
              "        3.5402237e-03, 7.8013007e-05]], dtype=float32)>"
            ]
          },
          "metadata": {
            "tags": []
          },
          "execution_count": 25
        }
      ]
    },
    {
      "cell_type": "markdown",
      "metadata": {
        "id": "r_MIfTbb-fKn"
      },
      "source": [
        "The accurecy on the training data was 0.9136 or 91.36%. The accurecy on the testing data was 0.9511 or 95.11%.\n",
        "\n",
        "Overall, the best accurecy I could get (I stopped running tests on more layers and nuerons as my computer was not happy with me) was 98.20%. The conditions were 50 nuerons, 250 layers, and 35 epochs. Maybe more layers and nureons would have helped, but I do not think there is much room for improvement.\n",
        "\n",
        "This model is overfitting, as the training accurecy is higher (but not by much) than the testing accurecy. As I added a large number of nuerons and layers, it does make sense the model is overfit. "
      ]
    },
    {
      "cell_type": "code",
      "metadata": {
        "id": "FDXtfMivERYt"
      },
      "source": [
        ""
      ],
      "execution_count": null,
      "outputs": []
    }
  ]
}