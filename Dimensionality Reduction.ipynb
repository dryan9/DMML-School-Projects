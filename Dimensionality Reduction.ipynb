{
  "nbformat": 4,
  "nbformat_minor": 0,
  "metadata": {
    "colab": {
      "name": "lab12_danny.ipynb",
      "provenance": []
    },
    "kernelspec": {
      "display_name": "Python 3",
      "name": "python3"
    },
    "language_info": {
      "name": "python"
    }
  },
  "cells": [
    {
      "cell_type": "markdown",
      "metadata": {
        "id": "SwhhsNm_UaO7"
      },
      "source": [
        "Danny Ryan\n",
        "\n",
        "Lab 12 \n",
        "\n",
        "Dimsenionality Reduction \n",
        "\n",
        "3/29/2020"
      ]
    },
    {
      "cell_type": "code",
      "metadata": {
        "id": "pvWY72lYUfrM"
      },
      "source": [
        "import numpy as np\n",
        "import pandas as pd\n",
        "\n",
        "import matplotlib.pyplot as plt\n",
        "import seaborn as sns "
      ],
      "execution_count": null,
      "outputs": []
    },
    {
      "cell_type": "code",
      "metadata": {
        "colab": {
          "base_uri": "https://localhost:8080/",
          "height": 215
        },
        "id": "4idQQTbsUyYu",
        "outputId": "063e923b-1215-49d7-d61d-96418f41716d"
      },
      "source": [
        "file_link = \"https://drive.google.com/uc?export=download&id=1vqMBid4r0C8apwYcpBQfVQ_TwEUNWY8r\"\n",
        "df = pd.read_csv(file_link)\n",
        "df.head()"
      ],
      "execution_count": null,
      "outputs": [
        {
          "output_type": "execute_result",
          "data": {
            "text/html": [
              "<div>\n",
              "<style scoped>\n",
              "    .dataframe tbody tr th:only-of-type {\n",
              "        vertical-align: middle;\n",
              "    }\n",
              "\n",
              "    .dataframe tbody tr th {\n",
              "        vertical-align: top;\n",
              "    }\n",
              "\n",
              "    .dataframe thead th {\n",
              "        text-align: right;\n",
              "    }\n",
              "</style>\n",
              "<table border=\"1\" class=\"dataframe\">\n",
              "  <thead>\n",
              "    <tr style=\"text-align: right;\">\n",
              "      <th></th>\n",
              "      <th>0</th>\n",
              "      <th>1</th>\n",
              "      <th>2</th>\n",
              "      <th>3</th>\n",
              "      <th>4</th>\n",
              "      <th>5</th>\n",
              "      <th>6</th>\n",
              "      <th>7</th>\n",
              "      <th>8</th>\n",
              "      <th>9</th>\n",
              "      <th>10</th>\n",
              "      <th>11</th>\n",
              "      <th>12</th>\n",
              "      <th>13</th>\n",
              "      <th>14</th>\n",
              "      <th>15</th>\n",
              "      <th>16</th>\n",
              "      <th>17</th>\n",
              "      <th>18</th>\n",
              "      <th>19</th>\n",
              "      <th>20</th>\n",
              "      <th>21</th>\n",
              "      <th>22</th>\n",
              "      <th>23</th>\n",
              "      <th>24</th>\n",
              "      <th>25</th>\n",
              "      <th>26</th>\n",
              "      <th>27</th>\n",
              "      <th>28</th>\n",
              "      <th>29</th>\n",
              "      <th>30</th>\n",
              "    </tr>\n",
              "  </thead>\n",
              "  <tbody>\n",
              "    <tr>\n",
              "      <th>0</th>\n",
              "      <td>2.536741</td>\n",
              "      <td>-3.301172</td>\n",
              "      <td>-0.401756</td>\n",
              "      <td>-1.202885</td>\n",
              "      <td>1.634385</td>\n",
              "      <td>0.328210</td>\n",
              "      <td>0.509842</td>\n",
              "      <td>0.307943</td>\n",
              "      <td>-1.330579</td>\n",
              "      <td>0.690989</td>\n",
              "      <td>2.056854</td>\n",
              "      <td>4.245124</td>\n",
              "      <td>-1.122276</td>\n",
              "      <td>-1.286053</td>\n",
              "      <td>0.570713</td>\n",
              "      <td>0.332914</td>\n",
              "      <td>0.065116</td>\n",
              "      <td>1.965521</td>\n",
              "      <td>-2.677922</td>\n",
              "      <td>0.145463</td>\n",
              "      <td>-0.765567</td>\n",
              "      <td>-0.108297</td>\n",
              "      <td>1.063411</td>\n",
              "      <td>-0.438486</td>\n",
              "      <td>-1.151013</td>\n",
              "      <td>1.475069</td>\n",
              "      <td>0.997267</td>\n",
              "      <td>2.782064</td>\n",
              "      <td>1.896763</td>\n",
              "      <td>-0.039366</td>\n",
              "      <td>0.0</td>\n",
              "    </tr>\n",
              "    <tr>\n",
              "      <th>1</th>\n",
              "      <td>2.700367</td>\n",
              "      <td>-2.672759</td>\n",
              "      <td>-0.683936</td>\n",
              "      <td>-2.410570</td>\n",
              "      <td>1.046541</td>\n",
              "      <td>0.066310</td>\n",
              "      <td>-0.602418</td>\n",
              "      <td>1.015624</td>\n",
              "      <td>-2.061458</td>\n",
              "      <td>0.174439</td>\n",
              "      <td>1.189218</td>\n",
              "      <td>3.816560</td>\n",
              "      <td>-0.600531</td>\n",
              "      <td>1.093787</td>\n",
              "      <td>0.323073</td>\n",
              "      <td>0.176187</td>\n",
              "      <td>1.493695</td>\n",
              "      <td>2.650732</td>\n",
              "      <td>-3.260990</td>\n",
              "      <td>0.149962</td>\n",
              "      <td>-0.141244</td>\n",
              "      <td>0.271675</td>\n",
              "      <td>2.083393</td>\n",
              "      <td>0.119871</td>\n",
              "      <td>0.704316</td>\n",
              "      <td>1.143842</td>\n",
              "      <td>-1.723951</td>\n",
              "      <td>2.419307</td>\n",
              "      <td>1.033950</td>\n",
              "      <td>-0.033414</td>\n",
              "      <td>0.0</td>\n",
              "    </tr>\n",
              "    <tr>\n",
              "      <th>2</th>\n",
              "      <td>-1.020962</td>\n",
              "      <td>-0.851870</td>\n",
              "      <td>1.270827</td>\n",
              "      <td>-0.921015</td>\n",
              "      <td>-1.205010</td>\n",
              "      <td>-0.552378</td>\n",
              "      <td>0.009268</td>\n",
              "      <td>0.409418</td>\n",
              "      <td>0.627190</td>\n",
              "      <td>-0.683375</td>\n",
              "      <td>0.076625</td>\n",
              "      <td>-1.163256</td>\n",
              "      <td>0.459435</td>\n",
              "      <td>-0.642715</td>\n",
              "      <td>0.376824</td>\n",
              "      <td>0.466007</td>\n",
              "      <td>-0.018943</td>\n",
              "      <td>-0.668694</td>\n",
              "      <td>-0.867758</td>\n",
              "      <td>-1.384927</td>\n",
              "      <td>0.455188</td>\n",
              "      <td>-2.445057</td>\n",
              "      <td>-0.628649</td>\n",
              "      <td>-0.592058</td>\n",
              "      <td>0.149045</td>\n",
              "      <td>1.808181</td>\n",
              "      <td>0.636952</td>\n",
              "      <td>1.196119</td>\n",
              "      <td>1.751840</td>\n",
              "      <td>1.279966</td>\n",
              "      <td>1.0</td>\n",
              "    </tr>\n",
              "    <tr>\n",
              "      <th>3</th>\n",
              "      <td>-1.450912</td>\n",
              "      <td>-1.156441</td>\n",
              "      <td>-2.247361</td>\n",
              "      <td>1.744520</td>\n",
              "      <td>-1.183791</td>\n",
              "      <td>-1.837285</td>\n",
              "      <td>3.915360</td>\n",
              "      <td>0.129572</td>\n",
              "      <td>1.739377</td>\n",
              "      <td>1.295061</td>\n",
              "      <td>5.047583</td>\n",
              "      <td>2.291222</td>\n",
              "      <td>3.047817</td>\n",
              "      <td>2.329900</td>\n",
              "      <td>-1.681013</td>\n",
              "      <td>2.591229</td>\n",
              "      <td>-0.429771</td>\n",
              "      <td>0.237015</td>\n",
              "      <td>0.372583</td>\n",
              "      <td>-0.389226</td>\n",
              "      <td>0.087047</td>\n",
              "      <td>-0.059553</td>\n",
              "      <td>-2.438575</td>\n",
              "      <td>-1.691106</td>\n",
              "      <td>-0.258106</td>\n",
              "      <td>-0.306145</td>\n",
              "      <td>-0.884099</td>\n",
              "      <td>1.796661</td>\n",
              "      <td>0.033870</td>\n",
              "      <td>0.763104</td>\n",
              "      <td>0.0</td>\n",
              "    </tr>\n",
              "    <tr>\n",
              "      <th>4</th>\n",
              "      <td>2.239896</td>\n",
              "      <td>2.216549</td>\n",
              "      <td>-2.511707</td>\n",
              "      <td>0.581304</td>\n",
              "      <td>1.978495</td>\n",
              "      <td>0.272168</td>\n",
              "      <td>-1.235817</td>\n",
              "      <td>-0.958662</td>\n",
              "      <td>-2.358019</td>\n",
              "      <td>1.147567</td>\n",
              "      <td>-1.565297</td>\n",
              "      <td>1.967257</td>\n",
              "      <td>-0.618975</td>\n",
              "      <td>0.037661</td>\n",
              "      <td>-1.619541</td>\n",
              "      <td>-1.517656</td>\n",
              "      <td>-0.840908</td>\n",
              "      <td>1.651650</td>\n",
              "      <td>1.042925</td>\n",
              "      <td>2.301618</td>\n",
              "      <td>0.242111</td>\n",
              "      <td>-0.232808</td>\n",
              "      <td>2.306771</td>\n",
              "      <td>2.040415</td>\n",
              "      <td>-0.339121</td>\n",
              "      <td>-0.049949</td>\n",
              "      <td>0.015628</td>\n",
              "      <td>-2.624473</td>\n",
              "      <td>-4.741839</td>\n",
              "      <td>-0.050563</td>\n",
              "      <td>0.0</td>\n",
              "    </tr>\n",
              "  </tbody>\n",
              "</table>\n",
              "</div>"
            ],
            "text/plain": [
              "          0         1         2         3  ...        27        28        29   30\n",
              "0  2.536741 -3.301172 -0.401756 -1.202885  ...  2.782064  1.896763 -0.039366  0.0\n",
              "1  2.700367 -2.672759 -0.683936 -2.410570  ...  2.419307  1.033950 -0.033414  0.0\n",
              "2 -1.020962 -0.851870  1.270827 -0.921015  ...  1.196119  1.751840  1.279966  1.0\n",
              "3 -1.450912 -1.156441 -2.247361  1.744520  ...  1.796661  0.033870  0.763104  0.0\n",
              "4  2.239896  2.216549 -2.511707  0.581304  ... -2.624473 -4.741839 -0.050563  0.0\n",
              "\n",
              "[5 rows x 31 columns]"
            ]
          },
          "metadata": {
            "tags": []
          },
          "execution_count": 51
        }
      ]
    },
    {
      "cell_type": "code",
      "metadata": {
        "colab": {
          "base_uri": "https://localhost:8080/"
        },
        "id": "wEQ4Fo12U4ch",
        "outputId": "60fd2852-e3ce-4aa9-83d8-5503e917afb6"
      },
      "source": [
        "df.describe"
      ],
      "execution_count": null,
      "outputs": [
        {
          "output_type": "execute_result",
          "data": {
            "text/plain": [
              "<bound method NDFrame.describe of             0         1         2         3  ...        27        28        29   30\n",
              "0    2.536741 -3.301172 -0.401756 -1.202885  ...  2.782064  1.896763 -0.039366  0.0\n",
              "1    2.700367 -2.672759 -0.683936 -2.410570  ...  2.419307  1.033950 -0.033414  0.0\n",
              "2   -1.020962 -0.851870  1.270827 -0.921015  ...  1.196119  1.751840  1.279966  1.0\n",
              "3   -1.450912 -1.156441 -2.247361  1.744520  ...  1.796661  0.033870  0.763104  0.0\n",
              "4    2.239896  2.216549 -2.511707  0.581304  ... -2.624473 -4.741839 -0.050563  0.0\n",
              "..        ...       ...       ...       ...  ...       ...       ...       ...  ...\n",
              "995 -0.650636 -1.413686  0.867949 -0.407801  ...  0.918315  2.306975  1.148003  0.0\n",
              "996 -0.660438 -4.380001  1.160266  0.290124  ...  3.335666  6.682773 -1.730456  0.0\n",
              "997 -1.117849  0.570688 -1.660963  1.255061  ... -1.000558 -0.628699  0.501853  0.0\n",
              "998 -1.813400 -1.001267 -0.628922 -0.721671  ...  1.195701  1.206945 -0.280884  0.0\n",
              "999 -1.992246 -0.262096 -0.416985 -1.417252  ...  0.233993  0.861341  0.098580  0.0\n",
              "\n",
              "[1000 rows x 31 columns]>"
            ]
          },
          "metadata": {
            "tags": []
          },
          "execution_count": 52
        }
      ]
    },
    {
      "cell_type": "code",
      "metadata": {
        "id": "DQ3RT1oUVIzE"
      },
      "source": [
        "X = df.iloc[:, : 30]"
      ],
      "execution_count": null,
      "outputs": []
    },
    {
      "cell_type": "code",
      "metadata": {
        "colab": {
          "base_uri": "https://localhost:8080/"
        },
        "id": "KOsowxtXVgO8",
        "outputId": "2fa29aed-99ce-4614-eef6-3fb5d639d154"
      },
      "source": [
        "X.describe"
      ],
      "execution_count": null,
      "outputs": [
        {
          "output_type": "execute_result",
          "data": {
            "text/plain": [
              "<bound method NDFrame.describe of             0         1         2  ...        27        28        29\n",
              "0    2.536741 -3.301172 -0.401756  ...  2.782064  1.896763 -0.039366\n",
              "1    2.700367 -2.672759 -0.683936  ...  2.419307  1.033950 -0.033414\n",
              "2   -1.020962 -0.851870  1.270827  ...  1.196119  1.751840  1.279966\n",
              "3   -1.450912 -1.156441 -2.247361  ...  1.796661  0.033870  0.763104\n",
              "4    2.239896  2.216549 -2.511707  ... -2.624473 -4.741839 -0.050563\n",
              "..        ...       ...       ...  ...       ...       ...       ...\n",
              "995 -0.650636 -1.413686  0.867949  ...  0.918315  2.306975  1.148003\n",
              "996 -0.660438 -4.380001  1.160266  ...  3.335666  6.682773 -1.730456\n",
              "997 -1.117849  0.570688 -1.660963  ... -1.000558 -0.628699  0.501853\n",
              "998 -1.813400 -1.001267 -0.628922  ...  1.195701  1.206945 -0.280884\n",
              "999 -1.992246 -0.262096 -0.416985  ...  0.233993  0.861341  0.098580\n",
              "\n",
              "[1000 rows x 30 columns]>"
            ]
          },
          "metadata": {
            "tags": []
          },
          "execution_count": 54
        }
      ]
    },
    {
      "cell_type": "code",
      "metadata": {
        "id": "ycCqs_boViHF",
        "colab": {
          "base_uri": "https://localhost:8080/"
        },
        "outputId": "92bf2a2c-b825-4739-aca2-880e9aa7885c"
      },
      "source": [
        "y = df.iloc[:,30]\n",
        "y.shape"
      ],
      "execution_count": null,
      "outputs": [
        {
          "output_type": "execute_result",
          "data": {
            "text/plain": [
              "(1000,)"
            ]
          },
          "metadata": {
            "tags": []
          },
          "execution_count": 55
        }
      ]
    },
    {
      "cell_type": "code",
      "metadata": {
        "colab": {
          "base_uri": "https://localhost:8080/"
        },
        "id": "K4mHT_epV5_W",
        "outputId": "c91e3521-0d97-4bc7-cfae-cadc78a2c932"
      },
      "source": [
        "y.describe"
      ],
      "execution_count": null,
      "outputs": [
        {
          "output_type": "execute_result",
          "data": {
            "text/plain": [
              "<bound method NDFrame.describe of 0      0.0\n",
              "1      0.0\n",
              "2      1.0\n",
              "3      0.0\n",
              "4      0.0\n",
              "      ... \n",
              "995    0.0\n",
              "996    0.0\n",
              "997    0.0\n",
              "998    0.0\n",
              "999    0.0\n",
              "Name: 30, Length: 1000, dtype: float64>"
            ]
          },
          "metadata": {
            "tags": []
          },
          "execution_count": 56
        }
      ]
    },
    {
      "cell_type": "code",
      "metadata": {
        "id": "Ue-y7goMWIUV"
      },
      "source": [
        "from sklearn.model_selection import train_test_split\n",
        "Xtrain, Xtest, ytrain, ytest = train_test_split(X,y, test_size = 0.5, random_state = 0)"
      ],
      "execution_count": null,
      "outputs": []
    },
    {
      "cell_type": "code",
      "metadata": {
        "id": "vpa81K9GWnb8"
      },
      "source": [
        "from sklearn.decomposition import PCA"
      ],
      "execution_count": null,
      "outputs": []
    },
    {
      "cell_type": "code",
      "metadata": {
        "id": "9Cmm_Xf7WyDc"
      },
      "source": [
        "from sklearn.neighbors import KNeighborsClassifier\n",
        "from sklearn.metrics import accuracy_score"
      ],
      "execution_count": null,
      "outputs": []
    },
    {
      "cell_type": "code",
      "metadata": {
        "id": "8QVf_QHGW8t7"
      },
      "source": [
        "pca = PCA(n_components=2)\n",
        "pca.fit(Xtrain)\n",
        "Xtrain2 = pca.transform(Xtrain)\n",
        "Xtest2 = pca.transform(Xtest)"
      ],
      "execution_count": null,
      "outputs": []
    },
    {
      "cell_type": "code",
      "metadata": {
        "colab": {
          "base_uri": "https://localhost:8080/"
        },
        "id": "lq3o9xhGXUtz",
        "outputId": "66374382-3167-4b30-a751-cabbd6aa121f"
      },
      "source": [
        "Xtrain2.shape"
      ],
      "execution_count": null,
      "outputs": [
        {
          "output_type": "execute_result",
          "data": {
            "text/plain": [
              "(500, 2)"
            ]
          },
          "metadata": {
            "tags": []
          },
          "execution_count": 61
        }
      ]
    },
    {
      "cell_type": "code",
      "metadata": {
        "colab": {
          "base_uri": "https://localhost:8080/"
        },
        "id": "FS8ZKNpEXW6_",
        "outputId": "1e4bcce6-e4e0-4f08-e46e-79579c52f4ce"
      },
      "source": [
        "pca.explained_variance_ratio_"
      ],
      "execution_count": null,
      "outputs": [
        {
          "output_type": "execute_result",
          "data": {
            "text/plain": [
              "array([0.35609967, 0.19444318])"
            ]
          },
          "metadata": {
            "tags": []
          },
          "execution_count": 62
        }
      ]
    },
    {
      "cell_type": "code",
      "metadata": {
        "colab": {
          "base_uri": "https://localhost:8080/"
        },
        "id": "M67gHkKnXpO6",
        "outputId": "db6c806f-2c06-4ac2-de24-35fafa1a2cb7"
      },
      "source": [
        "model = KNeighborsClassifier(n_neighbors=1)\n",
        "model.fit(Xtrain, ytrain)\n",
        "ypred = model.predict(Xtest)\n",
        "print(\"accurecy\" , accuracy_score(ytest, ypred))"
      ],
      "execution_count": null,
      "outputs": [
        {
          "output_type": "stream",
          "text": [
            "accurecy 0.94\n"
          ],
          "name": "stdout"
        }
      ]
    },
    {
      "cell_type": "code",
      "metadata": {
        "colab": {
          "base_uri": "https://localhost:8080/"
        },
        "id": "zFRZ8X86X4SW",
        "outputId": "78813439-132a-4088-fc39-adb8be4fbfe4"
      },
      "source": [
        "model1 = KNeighborsClassifier(n_neighbors= 1)\n",
        "model1.fit(Xtrain2, ytrain)\n",
        "ypred1 = model1.predict(Xtest2)\n",
        "print(\"accurecy\", accuracy_score(ytest, ypred1))"
      ],
      "execution_count": null,
      "outputs": [
        {
          "output_type": "stream",
          "text": [
            "accurecy 0.59\n"
          ],
          "name": "stdout"
        }
      ]
    },
    {
      "cell_type": "markdown",
      "metadata": {
        "id": "H_eJ9Ny4ZpAm"
      },
      "source": [
        "Using the orginal training data, the accuracy was 0.94, and after transforming the training data, the accuracy 0.59. This was not suprising, as the original data set had 30 columns to help differientaite the data, wheras the transformed data only had two columns, so it would inherintly have less variability, and thus make it tougher to predict. "
      ]
    },
    {
      "cell_type": "code",
      "metadata": {
        "colab": {
          "base_uri": "https://localhost:8080/"
        },
        "id": "WpgJhf30aSp8",
        "outputId": "5ca98477-002b-4df5-a1ee-c18f5b27734b"
      },
      "source": [
        "a = np.arange(2,30,1)\n",
        "\n",
        "for i in (a):\n",
        "  pca = PCA(n_components=i)\n",
        "  pca.fit(Xtrain)\n",
        "  Xtrain2 = pca.transform(Xtrain)\n",
        "  Xtest2 = pca.transform(Xtest)\n",
        "  model1 = KNeighborsClassifier(n_neighbors= 1)\n",
        "  model1.fit(Xtrain2, ytrain)\n",
        "  ypred1 = model1.predict(Xtest2)\n",
        "  print(i , \"--\", \" accurecy \", accuracy_score(ytest, ypred1))\n",
        "  sum = np.sum(pca.explained_variance_ratio_)\n",
        "  print(i,\"-- variance \", sum)\n",
        "  print(\"=================\")\n"
      ],
      "execution_count": null,
      "outputs": [
        {
          "output_type": "stream",
          "text": [
            "2 --  accurecy  0.59\n",
            "2 -- variance  0.5505428529752316\n",
            "=================\n",
            "3 --  accurecy  0.892\n",
            "3 -- variance  0.7000931034616613\n",
            "=================\n",
            "4 --  accurecy  0.896\n",
            "4 -- variance  0.8047525987162285\n",
            "=================\n",
            "5 --  accurecy  0.958\n",
            "5 -- variance  0.8678723134134508\n",
            "=================\n",
            "6 --  accurecy  0.958\n",
            "6 -- variance  0.8842434923969543\n",
            "=================\n",
            "7 --  accurecy  0.962\n",
            "7 -- variance  0.8995492052460975\n",
            "=================\n",
            "8 --  accurecy  0.96\n",
            "8 -- variance  0.9136161590815112\n",
            "=================\n",
            "9 --  accurecy  0.956\n",
            "9 -- variance  0.9273018337397133\n",
            "=================\n",
            "10 --  accurecy  0.946\n",
            "10 -- variance  0.9406715138279935\n",
            "=================\n",
            "11 --  accurecy  0.95\n",
            "11 -- variance  0.9535610392198978\n",
            "=================\n",
            "12 --  accurecy  0.952\n",
            "12 -- variance  0.965869254451283\n",
            "=================\n",
            "13 --  accurecy  0.948\n",
            "13 -- variance  0.9778824434371968\n",
            "=================\n",
            "14 --  accurecy  0.946\n",
            "14 -- variance  0.9892153892474123\n",
            "=================\n",
            "15 --  accurecy  0.94\n",
            "15 -- variance  1.0\n",
            "=================\n",
            "16 --  accurecy  0.94\n",
            "16 -- variance  0.9999999999999999\n",
            "=================\n",
            "17 --  accurecy  0.94\n",
            "17 -- variance  0.9999999999999999\n",
            "=================\n",
            "18 --  accurecy  0.94\n",
            "18 -- variance  0.9999999999999999\n",
            "=================\n",
            "19 --  accurecy  0.94\n",
            "19 -- variance  0.9999999999999999\n",
            "=================\n",
            "20 --  accurecy  0.94\n",
            "20 -- variance  0.9999999999999999\n",
            "=================\n",
            "21 --  accurecy  0.94\n",
            "21 -- variance  0.9999999999999999\n",
            "=================\n",
            "22 --  accurecy  0.94\n",
            "22 -- variance  0.9999999999999999\n",
            "=================\n",
            "23 --  accurecy  0.94\n",
            "23 -- variance  0.9999999999999999\n",
            "=================\n",
            "24 --  accurecy  0.94\n",
            "24 -- variance  0.9999999999999999\n",
            "=================\n",
            "25 --  accurecy  0.94\n",
            "25 -- variance  0.9999999999999999\n",
            "=================\n",
            "26 --  accurecy  0.94\n",
            "26 -- variance  0.9999999999999999\n",
            "=================\n",
            "27 --  accurecy  0.94\n",
            "27 -- variance  0.9999999999999999\n",
            "=================\n",
            "28 --  accurecy  0.94\n",
            "28 -- variance  0.9999999999999999\n",
            "=================\n",
            "29 --  accurecy  0.94\n",
            "29 -- variance  0.9999999999999999\n",
            "=================\n"
          ],
          "name": "stdout"
        }
      ]
    },
    {
      "cell_type": "code",
      "metadata": {
        "colab": {
          "base_uri": "https://localhost:8080/"
        },
        "id": "8CloyhnIa1kQ",
        "outputId": "599a081c-c06d-4d22-c5c7-aa1688c8e885"
      },
      "source": [
        "ytrain.shape"
      ],
      "execution_count": null,
      "outputs": [
        {
          "output_type": "execute_result",
          "data": {
            "text/plain": [
              "(500,)"
            ]
          },
          "metadata": {
            "tags": []
          },
          "execution_count": 66
        }
      ]
    },
    {
      "cell_type": "code",
      "metadata": {
        "id": "wRtgKNGRcldT"
      },
      "source": [
        ""
      ],
      "execution_count": null,
      "outputs": []
    },
    {
      "cell_type": "markdown",
      "metadata": {
        "id": "DU0itmMYfR3O"
      },
      "source": [
        "The best accurecy I could get was 0.962 using 7 components, and the percent of the original variance was 0.899."
      ]
    },
    {
      "cell_type": "code",
      "metadata": {
        "id": "Qnznbnaof0OC"
      },
      "source": [
        ""
      ],
      "execution_count": null,
      "outputs": []
    }
  ]
}